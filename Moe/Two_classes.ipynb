{
 "cells": [
  {
   "cell_type": "code",
   "execution_count": 12,
   "metadata": {},
   "outputs": [],
   "source": [
    "import keras\n",
    "from keras.models import Model\n",
    "from keras.layers import Dense, Dropout, Flatten, BatchNormalization, Input\n",
    "from keras.layers import Conv2D, MaxPooling2D\n",
    "from keras.layers import concatenate, Lambda, Reshape\n",
    "from keras.callbacks import EarlyStopping, ModelCheckpoint\n",
    "from keras.optimizers import Adam\n",
    "import keras.backend as K\n",
    "from keras.datasets import cifar10\n",
    "from keras.utils.vis_utils import model_to_dot\n",
    "from keras.utils import plot_model\n",
    "from sklearn.utils import shuffle\n",
    "from sklearn.model_selection import train_test_split\n",
    "\n",
    "from sklearn.metrics import classification_report, confusion_matrix\n",
    "import cv2\n",
    "\n",
    "import itertools\n",
    "import numpy as np\n",
    "import os\n",
    "import copy\n",
    "import matplotlib.pyplot as plt\n",
    "import pandas as pd\n",
    "import seaborn as sn\n",
    "import pydot\n",
    "from IPython.display import SVG"
   ]
  },
  {
   "cell_type": "code",
   "execution_count": 13,
   "metadata": {},
   "outputs": [],
   "source": [
    "def getimages(direct):\n",
    "    im=[]\n",
    "    label=[]\n",
    "    lab=0\n",
    "    for labels in os.listdir(direct):\n",
    "        #Label corresponding to folder\n",
    "        if labels==\"buildings\":\n",
    "            lab=0\n",
    "        if labels==\"forest\":\n",
    "            lab=1\n",
    "        if labels==\"glacier\":\n",
    "            lab=2\n",
    "        if labels==\"mountain\":\n",
    "            lab=3\n",
    "        if labels==\"sea\":\n",
    "            lab=4\n",
    "        if labels==\"street\":\n",
    "            lab=5\n",
    "        for image in os.listdir(direct+r'/'+labels):\n",
    "            #Read images\n",
    "            imag=cv2.imread(direct+r'/'+labels+r'/'+image)\n",
    "            imag=cv2.resize(imag,(150,150))\n",
    "            \n",
    "            im.append(imag)\n",
    "            label.append(lab)\n",
    "    #Suffle all images\n",
    "    return shuffle(im, label)\n",
    "\n",
    "#Obtain both train and test images\n",
    "im,label=getimages(\"archive\\seg_train\\seg_train\")      \n",
    "im1,label1=getimages(\"archive\\seg_test\\seg_test\") \n",
    "img=im+im1\n",
    "lab=label+label1\n",
    "\n",
    "#Convert to numpy array\n",
    "Images=np.array(img)\n",
    "Labels=np.array(lab)\n",
    "\n",
    "classes=2"
   ]
  },
  {
   "cell_type": "code",
   "execution_count": 14,
   "metadata": {},
   "outputs": [],
   "source": [
    "classes=2\n",
    "#Split into train, validation and test\n",
    "x1, xtest, y1,ytest=train_test_split(Images, Labels, random_state=0)\n",
    "xtrain, xvalidation, ytrain, yvalidation=train_test_split(x1, y1, random_state=0)\n",
    "\n",
    "#Prepare x\n",
    "xtrain = xtrain.astype('float32')\n",
    "xvalidation = xvalidation.astype('float32')\n",
    "xtest=xtest.astype('float32')\n",
    "xtrain /= 255\n",
    "xvalidation /= 255\n",
    "xtest /= 255\n",
    "\n",
    "\n",
    "#Prepare y\n",
    "ytrainG = np.array([0 if i in [0,1,5] else 1 for i in ytrain])\n",
    "yvalidationG = np.array([0 if i in [0,1,5] else 1 for i in yvalidation])\n",
    "ytestG = np.array([0 if i in [0,1,5] else 1 for i in ytest])\n",
    "ytrainG0 = keras.utils.to_categorical(ytrainG, classes)\n",
    "yvalidationG0 = keras.utils.to_categorical(yvalidationG, classes)\n",
    "ytestG0=keras.utils.to_categorical(ytestG, classes)"
   ]
  },
  {
   "cell_type": "code",
   "execution_count": 15,
   "metadata": {},
   "outputs": [],
   "source": [
    "# Small VGG-like model\n",
    "def simpleVGG(im_Input, num_classes, name=\"vgg\"):\n",
    "    name = [name+str(i) for i in range(12)]\n",
    "    \n",
    "    # convolution and max pooling layers\n",
    "    vgg = Conv2D(32, (3, 3), padding='same', activation='relu', name=name[0])(im_Input)\n",
    "    vgg = Conv2D(32, (3, 3), padding='same', activation='relu', name=name[1])(vgg)\n",
    "    vgg = MaxPooling2D(pool_size=(2,2), name=name[2])(vgg)\n",
    "    vgg = Dropout(0.25, name=name[3])(vgg)\n",
    "    vgg = Conv2D(64, (3, 3), padding='same', activation='relu', name=name[4])(vgg)\n",
    "    vgg = Conv2D(64, (3, 3), padding='same', activation='relu', name=name[5])(vgg)\n",
    "    vgg = MaxPooling2D(pool_size=(2,2), name=name[6])(vgg)\n",
    "    vgg = Dropout(0.25, name=name[7])(vgg)\n",
    "\n",
    "    # classification layers\n",
    "    vgg = Flatten(name=name[8])(vgg)\n",
    "    vgg = Dense(512, activation='relu', name=name[9])(vgg)\n",
    "    vgg = Dropout(0.5, name=name[10])(vgg)\n",
    "    vgg = Dense(num_classes, activation='softmax', name=name[11])(vgg)\n",
    "    return vgg"
   ]
  },
  {
   "cell_type": "code",
   "execution_count": 16,
   "metadata": {},
   "outputs": [],
   "source": [
    "im_Input = Input(shape=(xtrain.shape[1:]), name=\"input\")\n",
    "base0VGG = simpleVGG(im_Input, classes, \"base\")\n",
    "base0Model = Model(im_Input, base0VGG)\n",
    "# compile\n",
    "base0Model.compile(loss='categorical_crossentropy',\n",
    "                   optimizer=Adam(),\n",
    "                   metrics=['accuracy'])"
   ]
  },
  {
   "cell_type": "code",
   "execution_count": 17,
   "metadata": {},
   "outputs": [],
   "source": [
    "# get the newest model file within a directory\n",
    "def getNewestModel(model, dirname):\n",
    "    from glob import glob\n",
    "    target = os.path.join(dirname, '*')\n",
    "    files = [(f, os.path.getmtime(f)) for f in glob(target)]\n",
    "    if len(files) == 0:\n",
    "        return model\n",
    "    else:\n",
    "        newestModel = sorted(files, key=lambda files: files[1])[-1]\n",
    "        model.load_weights(newestModel[0])\n",
    "        return model"
   ]
  },
  {
   "cell_type": "code",
   "execution_count": 18,
   "metadata": {},
   "outputs": [],
   "source": [
    "# make saving directory for check point\n",
    "gate0SaveDir = \"./2_classes/\"\n",
    "if not os.path.isdir(gate0SaveDir):\n",
    "    os.makedirs(gate0SaveDir)\n",
    "    \n",
    "# early stopping and model checkpoint\n",
    "es_cb = EarlyStopping(monitor='val_loss', patience=2, verbose=1, mode='auto')\n",
    "chkpt = os.path.join(gate0SaveDir, '2_classes_.{epoch:02d}-{val_loss:.2f}.hdf5')\n",
    "cp_cb = ModelCheckpoint(filepath = chkpt, monitor='val_loss', verbose=1, save_best_only=True, mode='auto')\n",
    "\n",
    "# load the newest model data from the directory if exists\n",
    "base0Model = getNewestModel(base0Model, gate0SaveDir)"
   ]
  },
  {
   "cell_type": "code",
   "execution_count": 19,
   "metadata": {},
   "outputs": [
    {
     "name": "stdout",
     "output_type": "stream",
     "text": [
      "Epoch 1/10\n",
      "192/192 [==============================] - ETA: 0s - loss: 0.4911 - accuracy: 0.8499\n",
      "Epoch 00001: val_loss improved from inf to 0.28026, saving model to ./2_classes\\2_classes_.01-0.28.hdf5\n",
      "192/192 [==============================] - 545s 3s/step - loss: 0.4911 - accuracy: 0.8499 - val_loss: 0.2803 - val_accuracy: 0.8848\n",
      "Epoch 2/10\n",
      "192/192 [==============================] - ETA: 0s - loss: 0.1638 - accuracy: 0.9444\n",
      "Epoch 00002: val_loss improved from 0.28026 to 0.13919, saving model to ./2_classes\\2_classes_.02-0.14.hdf5\n",
      "192/192 [==============================] - 618s 3s/step - loss: 0.1638 - accuracy: 0.9444 - val_loss: 0.1392 - val_accuracy: 0.9515\n",
      "Epoch 3/10\n",
      "192/192 [==============================] - ETA: 0s - loss: 0.1262 - accuracy: 0.9575\n",
      "Epoch 00003: val_loss improved from 0.13919 to 0.12259, saving model to ./2_classes\\2_classes_.03-0.12.hdf5\n",
      "192/192 [==============================] - 607s 3s/step - loss: 0.1262 - accuracy: 0.9575 - val_loss: 0.1226 - val_accuracy: 0.9587\n",
      "Epoch 4/10\n",
      "192/192 [==============================] - ETA: 0s - loss: 0.1098 - accuracy: 0.9638\n",
      "Epoch 00004: val_loss improved from 0.12259 to 0.11097, saving model to ./2_classes\\2_classes_.04-0.11.hdf5\n",
      "192/192 [==============================] - 612s 3s/step - loss: 0.1098 - accuracy: 0.9638 - val_loss: 0.1110 - val_accuracy: 0.9602\n",
      "Epoch 5/10\n",
      "192/192 [==============================] - ETA: 0s - loss: 0.0965 - accuracy: 0.9675\n",
      "Epoch 00005: val_loss did not improve from 0.11097\n",
      "192/192 [==============================] - 581s 3s/step - loss: 0.0965 - accuracy: 0.9675 - val_loss: 0.1142 - val_accuracy: 0.9627\n",
      "Epoch 6/10\n",
      "192/192 [==============================] - ETA: 0s - loss: 0.0861 - accuracy: 0.9707\n",
      "Epoch 00006: val_loss did not improve from 0.11097\n",
      "192/192 [==============================] - 412s 2s/step - loss: 0.0861 - accuracy: 0.9707 - val_loss: 0.1345 - val_accuracy: 0.9606\n",
      "Epoch 00006: early stopping\n"
     ]
    }
   ],
   "source": [
    "# Number of training/testing examples per batch\n",
    "batch_size = 50\n",
    "\n",
    "# Training epochs. A higher number of epochs corresponds to \"more fitting to training data\"\n",
    "epochs = 10\n",
    "\n",
    "# train\n",
    "history=base0Model.fit(xtrain, ytrainG0,\n",
    "               batch_size=batch_size,\n",
    "               epochs=epochs,\n",
    "               validation_data=(xvalidation, yvalidationG0),\n",
    "               callbacks=[es_cb,cp_cb])"
   ]
  },
  {
   "cell_type": "code",
   "execution_count": 11,
   "metadata": {},
   "outputs": [
    {
     "name": "stdout",
     "output_type": "stream",
     "text": [
      "134/134 [==============================] - 53s 399ms/step - loss: 0.2705 - accuracy: 0.9056\n",
      "[0.2705335319042206, 0.9056116342544556]\n"
     ]
    }
   ],
   "source": [
    "# evaluate\n",
    "base0Model = getNewestModel(base0Model, gate0SaveDir)\n",
    "baseScore = base0Model.evaluate(xtest, ytestG0)\n",
    "print(baseScore)"
   ]
  },
  {
   "cell_type": "code",
   "execution_count": 20,
   "metadata": {},
   "outputs": [],
   "source": [
    "y_pred = base0Model.predict(xtest)\n",
    "matrix = confusion_matrix(ytestG0.argmax(axis=1), y_pred.argmax(axis=1))"
   ]
  },
  {
   "cell_type": "code",
   "execution_count": 21,
   "metadata": {},
   "outputs": [],
   "source": [
    "def plot_confusion_matrix(cm, classes,\n",
    "   normalize=False,\n",
    "   title='Confusion matrix',\n",
    "   cmap=plt.cm.Blues):\n",
    " \n",
    "    #Add Normalization Option\n",
    "    if normalize:\n",
    "        cm = cm.astype('float') / cm.sum(axis=1)[:, np.newaxis]\n",
    "        print(\"Normalized confusion matrix\")\n",
    "    else:\n",
    "         print(\"Confusion matrix, without normalization\")\n",
    " \n",
    "    plt.imshow(cm, interpolation=\"nearest\", cmap=cmap)\n",
    "    plt.title(title)\n",
    "    plt.colorbar()\n",
    "    tick_marks = np.arange(len(classes))\n",
    "    plt.xticks(tick_marks, classes, rotation=45)\n",
    "    plt.yticks(tick_marks, classes)\n",
    " \n",
    "    fmt = \".2f\" if normalize else \"d\"\n",
    "    thresh = cm.max() / 2.\n",
    "    for i, j in itertools.product(range(cm.shape[0]), range(cm.shape[1])):\n",
    "        plt.text(j, i, format(cm[i, j], fmt), horizontalalignment=\"center\", color=\"white\" if cm[i, j] > thresh else \"black\")\n",
    " \n",
    "    plt.tight_layout()\n",
    "    plt.ylabel(\"True label\")\n",
    "    plt.xlabel(\"Predicted label\") "
   ]
  },
  {
   "cell_type": "code",
   "execution_count": 22,
   "metadata": {},
   "outputs": [
    {
     "name": "stdout",
     "output_type": "stream",
     "text": [
      "Normalized confusion matrix\n"
     ]
    },
    {
     "data": {
      "image/png": "[encoded data removed]",
      "text/plain": [
       "<Figure size 432x288 with 2 Axes>"
      ]
     },
     "metadata": {
      "needs_background": "light"
     },
     "output_type": "display_data"
    }
   ],
   "source": [
    "plot_confusion_matrix(matrix, [\"Class 1\", \"Class 2\"], normalize=True)"
   ]
  },
  {
   "cell_type": "code",
   "execution_count": 24,
   "metadata": {},
   "outputs": [
    {
     "data": {
      "text/plain": [
       "<matplotlib.legend.Legend at 0x2274de0f670>"
      ]
     },
     "execution_count": 24,
     "metadata": {},
     "output_type": "execute_result"
    },
    {
     "data": {
      "image/png": "[encoded data removed]",
      "text/plain": [
       "<Figure size 432x288 with 1 Axes>"
      ]
     },
     "metadata": {
      "needs_background": "light"
     },
     "output_type": "display_data"
    }
   ],
   "source": [
    "plt.plot(history.history['accuracy'], label='accuracy')\n",
    "plt.plot(history.history['val_accuracy'], label = 'val_accuracy')\n",
    "plt.xlabel('Epoch')\n",
    "plt.ylabel('Accuracy')\n",
    "plt.ylim([0.7, 1])\n",
    "plt.legend(loc='lower right')"
   ]
  },
  {
   "cell_type": "code",
   "execution_count": null,
   "metadata": {},
   "outputs": [],
   "source": []
  }
 ],
 "metadata": {
  "kernelspec": {
   "display_name": "Python 3",
   "language": "python",
   "name": "python3"
  },
  "language_info": {
   "codemirror_mode": {
    "name": "ipython",
    "version": 3
   },
   "file_extension": ".py",
   "mimetype": "text/x-python",
   "name": "python",
   "nbconvert_exporter": "python",
   "pygments_lexer": "ipython3",
   "version": "3.8.3"
  }
 },
 "nbformat": 4,
 "nbformat_minor": 4
}
