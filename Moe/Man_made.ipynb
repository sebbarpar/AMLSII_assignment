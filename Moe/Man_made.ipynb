{
 "cells": [
  {
   "cell_type": "code",
   "execution_count": 1,
   "metadata": {},
   "outputs": [],
   "source": [
    "import keras\n",
    "from keras.models import Model\n",
    "from keras.layers import Dense, Dropout, Flatten, BatchNormalization, Input\n",
    "from keras.layers import Conv2D, MaxPooling2D\n",
    "from keras.layers import concatenate, Lambda, Reshape\n",
    "from keras.callbacks import EarlyStopping, ModelCheckpoint\n",
    "from keras.optimizers import Adam\n",
    "import keras.backend as K\n",
    "from keras.datasets import cifar10\n",
    "from keras.utils.vis_utils import model_to_dot\n",
    "from keras.utils import plot_model\n",
    "from sklearn.utils import shuffle\n",
    "from sklearn.model_selection import train_test_split\n",
    "from keras.applications.inception_v3 import InceptionV3\n",
    "\n",
    "from sklearn.metrics import classification_report, confusion_matrix\n",
    "import cv2\n",
    "\n",
    "import itertools\n",
    "import numpy as np\n",
    "import os\n",
    "import copy\n",
    "import matplotlib.pyplot as plt\n",
    "import pandas as pd\n",
    "import seaborn as sn\n",
    "import pydot\n",
    "from IPython.display import SVG"
   ]
  },
  {
   "cell_type": "code",
   "execution_count": 2,
   "metadata": {},
   "outputs": [],
   "source": [
    "def getimages(direct):\n",
    "    im=[]\n",
    "    label=[]\n",
    "    lab=0\n",
    "    for labels in os.listdir(direct):\n",
    "        #Label corresponding to folder\n",
    "        if labels==\"buildings\":\n",
    "            lab=0\n",
    "        if labels==\"forest\":\n",
    "            lab=1\n",
    "        if labels==\"glacier\":\n",
    "            lab=2\n",
    "        if labels==\"mountain\":\n",
    "            lab=3\n",
    "        if labels==\"sea\":\n",
    "            lab=4\n",
    "        if labels==\"street\":\n",
    "            lab=5\n",
    "        for image in os.listdir(direct+r'/'+labels):\n",
    "            #Read images\n",
    "            imag=cv2.imread(direct+r'/'+labels+r'/'+image)\n",
    "            imag=cv2.resize(imag,(150,150))\n",
    "            \n",
    "            im.append(imag)\n",
    "            label.append(lab)\n",
    "    #Suffle all images\n",
    "    return shuffle(im, label)\n",
    "\n",
    "#Obtain both train and test images\n",
    "im,label=getimages(\"archive\\seg_train\\seg_train\")      \n",
    "im1,label1=getimages(\"archive\\seg_test\\seg_test\") \n",
    "img=im+im1\n",
    "lab=label+label1\n",
    "\n",
    "#Convert to numpy array\n",
    "Images=np.array(img)\n",
    "Labels=np.array(lab)\n",
    "\n",
    "classes=6"
   ]
  },
  {
   "cell_type": "code",
   "execution_count": 3,
   "metadata": {},
   "outputs": [],
   "source": [
    "man = [i for i in range(len(Labels)) if Labels[i] in [0,5]]\n",
    "Images_man=Images[man]\n",
    "Labels_man=Labels[man]"
   ]
  },
  {
   "cell_type": "code",
   "execution_count": 16,
   "metadata": {},
   "outputs": [],
   "source": [
    "#Split into train, validation and test\n",
    "x1, xtest, y1,ytest=train_test_split(Images_man, Labels_man, random_state=0)\n",
    "xtrain, xvalidation, ytrain, yvalidation=train_test_split(x1, y1, random_state=0)\n",
    "\n",
    "#Prepare x\n",
    "xtrainman = xtrain.astype('float32')\n",
    "xvalman = xvalidation.astype('float32')\n",
    "xtestman=xtest.astype('float32')\n",
    "xtrainman /= 255\n",
    "xvalman /= 255\n",
    "xtestman /= 255\n"
   ]
  },
  {
   "cell_type": "code",
   "execution_count": 6,
   "metadata": {},
   "outputs": [],
   "source": [
    "ytrainman1=np.array([0 if i in [0] else 1 for i in ytrain])\n",
    "yvalman1=np.array([0 if i in [0] else 1 for i in yvalidation])\n",
    "ytestman1=np.array([0 if i in [0] else 1 for i in ytest])\n",
    "# for artificial dataset\n",
    "ytrainman = keras.utils.to_categorical(ytrainman1, 2)\n",
    "ytestman = keras.utils.to_categorical(ytestman1, 2)\n",
    "yvalman = keras.utils.to_categorical(yvalman1, 2)"
   ]
  },
  {
   "cell_type": "code",
   "execution_count": 7,
   "metadata": {},
   "outputs": [],
   "source": [
    "# Small VGG-like model\n",
    "def simpleVGG(im_Input, num_classes, name=\"vgg\"):\n",
    "    name = [name+str(i) for i in range(12)]\n",
    "    \n",
    "    # convolution and max pooling layers\n",
    "    vgg = Conv2D(32, (3, 3), padding='same', activation='relu', name=name[0])(im_Input)\n",
    "    vgg = Conv2D(32, (3, 3), padding='same', activation='relu', name=name[1])(vgg)\n",
    "    vgg = MaxPooling2D(pool_size=(2,2), name=name[2])(vgg)\n",
    "    vgg = Dropout(0.25, name=name[3])(vgg)\n",
    "    vgg = Conv2D(64, (3, 3), padding='same', activation='relu', name=name[4])(vgg)\n",
    "    vgg = Conv2D(64, (3, 3), padding='same', activation='relu', name=name[5])(vgg)\n",
    "    vgg = MaxPooling2D(pool_size=(2,2), name=name[6])(vgg)\n",
    "    vgg = Dropout(0.25, name=name[7])(vgg)\n",
    "\n",
    "    # classification layers\n",
    "    vgg = Flatten(name=name[8])(vgg)\n",
    "    vgg = Dense(512, activation='relu', name=name[9])(vgg)\n",
    "    vgg = Dropout(0.5, name=name[10])(vgg)\n",
    "    vgg = Dense(num_classes, activation='softmax', name=name[11])(vgg)\n",
    "    return vgg"
   ]
  },
  {
   "cell_type": "code",
   "execution_count": 18,
   "metadata": {},
   "outputs": [],
   "source": [
    "im_Input = Input(shape=(xtrain.shape[1:]), name=\"input\")\n",
    "baseVGG = simpleVGG(im_Input, 2, \"base\")\n",
    "manModel = Model(im_Input, baseVGG)"
   ]
  },
  {
   "cell_type": "code",
   "execution_count": 19,
   "metadata": {},
   "outputs": [],
   "source": [
    "\n",
    "# compile\n",
    "manModel.compile(loss='categorical_crossentropy',\n",
    "                   optimizer=Adam(),\n",
    "                   metrics=['accuracy'])"
   ]
  },
  {
   "cell_type": "code",
   "execution_count": 20,
   "metadata": {},
   "outputs": [],
   "source": [
    "# get the newest model file within a directory\n",
    "def getNewestModel(model, dirname):\n",
    "    from glob import glob\n",
    "    target = os.path.join(dirname, '*')\n",
    "    files = [(f, os.path.getmtime(f)) for f in glob(target)]\n",
    "    if len(files) == 0:\n",
    "        return model\n",
    "    else:\n",
    "        newestModel = sorted(files, key=lambda files: files[1])[-1]\n",
    "        model.load_weights(newestModel[0])\n",
    "        return model\n",
    "    \n",
    "# make saving directory for checkpoints\n",
    "baseSaveDir = \"./man_Im/\"\n",
    "if not os.path.isdir(baseSaveDir):\n",
    "    os.makedirs(baseSaveDir)\n",
    "    \n",
    "# early stopping and model checkpoint\n",
    "es_cb = EarlyStopping(monitor='loss', patience=2, verbose=1, mode='auto')\n",
    "chkpt = os.path.join(baseSaveDir, 'Man_made.{epoch:02d}-{val_loss:.2f}.hdf5')\n",
    "cp_cb = ModelCheckpoint(filepath = chkpt, monitor='val_loss', verbose=1, save_best_only=True, mode='auto')\n",
    "\n",
    "# load the newest model data from the directory if exists\n",
    "manModel = getNewestModel(manModel, baseSaveDir)"
   ]
  },
  {
   "cell_type": "code",
   "execution_count": 21,
   "metadata": {},
   "outputs": [
    {
     "name": "stdout",
     "output_type": "stream",
     "text": [
      "Epoch 1/10\n",
      "62/62 [==============================] - ETA: 0s - loss: 0.8962 - accuracy: 0.6463\n",
      "Epoch 00001: val_loss improved from inf to 0.41672, saving model to ./man_Im\\Man_made.01-0.42.hdf5\n",
      "62/62 [==============================] - 111s 2s/step - loss: 0.8962 - accuracy: 0.6463 - val_loss: 0.4167 - val_accuracy: 0.8133\n",
      "Epoch 2/10\n",
      "62/62 [==============================] - ETA: 0s - loss: 0.4249 - accuracy: 0.8099\n",
      "Epoch 00002: val_loss improved from 0.41672 to 0.39081, saving model to ./man_Im\\Man_made.02-0.39.hdf5\n",
      "62/62 [==============================] - 113s 2s/step - loss: 0.4249 - accuracy: 0.8099 - val_loss: 0.3908 - val_accuracy: 0.8346\n",
      "Epoch 3/10\n",
      "62/62 [==============================] - ETA: 0s - loss: 0.3947 - accuracy: 0.8316\n",
      "Epoch 00003: val_loss improved from 0.39081 to 0.36102, saving model to ./man_Im\\Man_made.03-0.36.hdf5\n",
      "62/62 [==============================] - 116s 2s/step - loss: 0.3947 - accuracy: 0.8316 - val_loss: 0.3610 - val_accuracy: 0.8501\n",
      "Epoch 4/10\n",
      "62/62 [==============================] - ETA: 0s - loss: 0.3770 - accuracy: 0.8348\n",
      "Epoch 00004: val_loss did not improve from 0.36102\n",
      "62/62 [==============================] - 114s 2s/step - loss: 0.3770 - accuracy: 0.8348 - val_loss: 0.3946 - val_accuracy: 0.8443\n",
      "Epoch 5/10\n",
      "62/62 [==============================] - ETA: 0s - loss: 0.3382 - accuracy: 0.8590\n",
      "Epoch 00005: val_loss improved from 0.36102 to 0.34674, saving model to ./man_Im\\Man_made.05-0.35.hdf5\n",
      "62/62 [==============================] - 113s 2s/step - loss: 0.3382 - accuracy: 0.8590 - val_loss: 0.3467 - val_accuracy: 0.8578\n",
      "Epoch 6/10\n",
      "62/62 [==============================] - ETA: 0s - loss: 0.2851 - accuracy: 0.8774\n",
      "Epoch 00006: val_loss improved from 0.34674 to 0.34196, saving model to ./man_Im\\Man_made.06-0.34.hdf5\n",
      "62/62 [==============================] - 110s 2s/step - loss: 0.2851 - accuracy: 0.8774 - val_loss: 0.3420 - val_accuracy: 0.8569\n",
      "Epoch 7/10\n",
      "62/62 [==============================] - ETA: 0s - loss: 0.2419 - accuracy: 0.9022\n",
      "Epoch 00007: val_loss did not improve from 0.34196\n",
      "62/62 [==============================] - 110s 2s/step - loss: 0.2419 - accuracy: 0.9022 - val_loss: 0.4032 - val_accuracy: 0.8540\n",
      "Epoch 8/10\n",
      "62/62 [==============================] - ETA: 0s - loss: 0.2023 - accuracy: 0.9148\n",
      "Epoch 00008: val_loss did not improve from 0.34196\n",
      "62/62 [==============================] - 110s 2s/step - loss: 0.2023 - accuracy: 0.9148 - val_loss: 0.4004 - val_accuracy: 0.8617\n",
      "Epoch 9/10\n",
      "62/62 [==============================] - ETA: 0s - loss: 0.1530 - accuracy: 0.9393\n",
      "Epoch 00009: val_loss did not improve from 0.34196\n",
      "62/62 [==============================] - 112s 2s/step - loss: 0.1530 - accuracy: 0.9393 - val_loss: 0.4227 - val_accuracy: 0.8646\n",
      "Epoch 10/10\n",
      "62/62 [==============================] - ETA: 0s - loss: 0.1147 - accuracy: 0.9564\n",
      "Epoch 00010: val_loss did not improve from 0.34196\n",
      "62/62 [==============================] - 122s 2s/step - loss: 0.1147 - accuracy: 0.9564 - val_loss: 0.5097 - val_accuracy: 0.8453\n"
     ]
    }
   ],
   "source": [
    "# Number of training/testing examples per batch\n",
    "batch_size = 50\n",
    "\n",
    "# Training epochs. A higher number of epochs corresponds to \"more fitting to training data\"\n",
    "epochs = 10\n",
    "\n",
    "# train\n",
    "history=manModel.fit(xtrainman, ytrainman,\n",
    "               batch_size=batch_size,\n",
    "               epochs=epochs,\n",
    "               validation_data=(xvalman, yvalman),\n",
    "               callbacks=[es_cb,cp_cb])"
   ]
  },
  {
   "cell_type": "code",
   "execution_count": 23,
   "metadata": {},
   "outputs": [
    {
     "name": "stdout",
     "output_type": "stream",
     "text": [
      "Model: \"functional_4\"\n",
      "_________________________________________________________________\n",
      "Layer (type)                 Output Shape              Param #   \n",
      "=================================================================\n",
      "input (InputLayer)           [(None, 150, 150, 3)]     0         \n",
      "_________________________________________________________________\n",
      "base0 (Conv2D)               (None, 150, 150, 32)      896       \n",
      "_________________________________________________________________\n",
      "base1 (Conv2D)               (None, 150, 150, 32)      9248      \n",
      "_________________________________________________________________\n",
      "base2 (MaxPooling2D)         (None, 75, 75, 32)        0         \n",
      "_________________________________________________________________\n",
      "base3 (Dropout)              (None, 75, 75, 32)        0         \n",
      "_________________________________________________________________\n",
      "base4 (Conv2D)               (None, 75, 75, 64)        18496     \n",
      "_________________________________________________________________\n",
      "base5 (Conv2D)               (None, 75, 75, 64)        36928     \n",
      "_________________________________________________________________\n",
      "base6 (MaxPooling2D)         (None, 37, 37, 64)        0         \n",
      "_________________________________________________________________\n",
      "base7 (Dropout)              (None, 37, 37, 64)        0         \n",
      "_________________________________________________________________\n",
      "base8 (Flatten)              (None, 87616)             0         \n",
      "_________________________________________________________________\n",
      "base9 (Dense)                (None, 512)               44859904  \n",
      "_________________________________________________________________\n",
      "base10 (Dropout)             (None, 512)               0         \n",
      "_________________________________________________________________\n",
      "base11 (Dense)               (None, 6)                 3078      \n",
      "=================================================================\n",
      "Total params: 44,928,550\n",
      "Trainable params: 44,928,550\n",
      "Non-trainable params: 0\n",
      "_________________________________________________________________\n"
     ]
    }
   ],
   "source": [
    "manModel.summary()"
   ]
  },
  {
   "cell_type": "code",
   "execution_count": 22,
   "metadata": {},
   "outputs": [
    {
     "data": {
      "text/plain": [
       "<matplotlib.legend.Legend at 0x20b674d9310>"
      ]
     },
     "execution_count": 22,
     "metadata": {},
     "output_type": "execute_result"
    },
    {
     "data": {
      "image/png": "[encoded data removed]",
      "text/plain": [
       "<Figure size 432x288 with 1 Axes>"
      ]
     },
     "metadata": {
      "needs_background": "light"
     },
     "output_type": "display_data"
    }
   ],
   "source": [
    "plt.plot(history.history['accuracy'], label='accuracy')\n",
    "plt.plot(history.history['val_accuracy'], label = 'val_accuracy')\n",
    "plt.xlabel('Epoch')\n",
    "plt.ylabel('Accuracy')\n",
    "plt.ylim([0.5, 1])\n",
    "plt.legend(loc='lower right')"
   ]
  },
  {
   "cell_type": "code",
   "execution_count": 26,
   "metadata": {},
   "outputs": [],
   "source": [
    "y_pred = manModel.predict(xvalman)\n",
    "matrix = confusion_matrix(yvalman.argmax(axis=1), y_pred.argmax(axis=1))"
   ]
  },
  {
   "cell_type": "code",
   "execution_count": 24,
   "metadata": {},
   "outputs": [],
   "source": [
    "def plot_confusion_matrix(cm, classes,\n",
    "   normalize=False,\n",
    "   title='Confusion matrix',\n",
    "   cmap=plt.cm.Blues):\n",
    " \n",
    "    #Add Normalization Option\n",
    "    if normalize:\n",
    "        cm = cm.astype('float') / cm.sum(axis=1)[:, np.newaxis]\n",
    "        print(\"Normalized confusion matrix\")\n",
    "    else:\n",
    "         print(\"Confusion matrix, without normalization\")\n",
    " \n",
    "    plt.imshow(cm, interpolation=\"nearest\", cmap=cmap)\n",
    "    plt.title(title)\n",
    "    plt.colorbar()\n",
    "    tick_marks = np.arange(len(classes))\n",
    "    plt.xticks(tick_marks, classes, rotation=45)\n",
    "    plt.yticks(tick_marks, classes)\n",
    " \n",
    "    fmt = \".2f\" if normalize else \"d\"\n",
    "    thresh = cm.max() / 2.\n",
    "    for i, j in itertools.product(range(cm.shape[0]), range(cm.shape[1])):\n",
    "        plt.text(j, i, format(cm[i, j], fmt), horizontalalignment=\"center\", color=\"white\" if cm[i, j] > thresh else \"black\")\n",
    " \n",
    "    plt.tight_layout()\n",
    "    plt.ylabel(\"True label\")\n",
    "    plt.xlabel(\"Predicted label\") "
   ]
  },
  {
   "cell_type": "code",
   "execution_count": 27,
   "metadata": {},
   "outputs": [
    {
     "name": "stdout",
     "output_type": "stream",
     "text": [
      "Normalized confusion matrix\n"
     ]
    },
    {
     "data": {
      "image/png": "[encoded data removed]",
      "text/plain": [
       "<Figure size 432x288 with 2 Axes>"
      ]
     },
     "metadata": {
      "needs_background": "light"
     },
     "output_type": "display_data"
    }
   ],
   "source": [
    "plot_confusion_matrix(matrix, [\"Building\", \"Street\"], normalize=True)"
   ]
  },
  {
   "cell_type": "code",
   "execution_count": null,
   "metadata": {},
   "outputs": [],
   "source": []
  }
 ],
 "metadata": {
  "kernelspec": {
   "display_name": "Python 3",
   "language": "python",
   "name": "python3"
  },
  "language_info": {
   "codemirror_mode": {
    "name": "ipython",
    "version": 3
   },
   "file_extension": ".py",
   "mimetype": "text/x-python",
   "name": "python",
   "nbconvert_exporter": "python",
   "pygments_lexer": "ipython3",
   "version": "3.8.3"
  }
 },
 "nbformat": 4,
 "nbformat_minor": 4
}
