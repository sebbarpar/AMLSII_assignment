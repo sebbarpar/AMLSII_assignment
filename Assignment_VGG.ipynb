{
 "cells": [
  {
   "cell_type": "code",
   "execution_count": 157,
   "metadata": {},
   "outputs": [],
   "source": [
    "import keras\n",
    "from keras.models import Model\n",
    "from keras.layers import Dense, Dropout, Flatten, BatchNormalization, Input\n",
    "from keras.layers import Conv2D, MaxPooling2D\n",
    "from keras.layers import concatenate, Lambda, Reshape\n",
    "from keras.callbacks import EarlyStopping, ModelCheckpoint\n",
    "from keras.optimizers import Adam\n",
    "import keras.backend as K\n",
    "from keras.datasets import cifar10\n",
    "from keras.utils.vis_utils import model_to_dot\n",
    "from keras.utils import plot_model\n",
    "from sklearn.utils import shuffle\n",
    "from sklearn.model_selection import train_test_split\n",
    "\n",
    "from sklearn.metrics import classification_report, confusion_matrix\n",
    "import cv2\n",
    "\n",
    "import itertools\n",
    "import numpy as np\n",
    "import os\n",
    "import copy\n",
    "import matplotlib.pyplot as plt\n",
    "import pandas as pd\n",
    "import seaborn as sn\n",
    "import pydot\n",
    "from IPython.display import SVG"
   ]
  },
  {
   "cell_type": "code",
   "execution_count": 127,
   "metadata": {},
   "outputs": [],
   "source": [
    "def getimages(direct):\n",
    "    im=[]\n",
    "    label=[]\n",
    "    lab=0\n",
    "    for labels in os.listdir(direct):\n",
    "        #Label corresponding to folder\n",
    "        if labels==\"buildings\":\n",
    "            lab=0\n",
    "        if labels==\"forest\":\n",
    "            lab=1\n",
    "        if labels==\"glacier\":\n",
    "            lab=2\n",
    "        if labels==\"mountain\":\n",
    "            lab=3\n",
    "        if labels==\"sea\":\n",
    "            lab=4\n",
    "        if labels==\"street\":\n",
    "            lab=5\n",
    "        for image in os.listdir(direct+r'/'+labels):\n",
    "            #Read images\n",
    "            imag=cv2.imread(direct+r'/'+labels+r'/'+image)\n",
    "            imag=cv2.resize(imag,(150,150))\n",
    "            \n",
    "            im.append(imag)\n",
    "            label.append(lab)\n",
    "    #Suffle all images\n",
    "    return shuffle(im, label)\n",
    "\n",
    "#Obtain both train and test images\n",
    "im,label=getimages(\"archive\\seg_train\\seg_train\")      \n",
    "im1,label1=getimages(\"archive\\seg_test\\seg_test\") \n",
    "img=im+im1\n",
    "lab=label+label1\n",
    "\n",
    "#Convert to numpy array\n",
    "Images=np.array(img)\n",
    "Labels=np.array(lab)\n",
    "\n",
    "classes=6"
   ]
  },
  {
   "cell_type": "code",
   "execution_count": 128,
   "metadata": {},
   "outputs": [
    {
     "name": "stdout",
     "output_type": "stream",
     "text": [
      "1\n"
     ]
    }
   ],
   "source": [
    "cv2.imshow('image',Images[300])\n",
    "cv2.waitKey(0)\n",
    "print(Labels[300])"
   ]
  },
  {
   "cell_type": "code",
   "execution_count": 129,
   "metadata": {},
   "outputs": [],
   "source": [
    "#Split into train, validation and test\n",
    "x1, xtest, y1,ytest=train_test_split(Images, Labels, random_state=0)\n",
    "xtrain, xvalidation, ytrain, yvalidation=train_test_split(x1, y1, random_state=0)\n",
    "\n",
    "#Prepare x\n",
    "xtrain = xtrain.astype('float32')\n",
    "xvalidation = xvalidation.astype('float32')\n",
    "xtest=xtest.astype('float32')\n",
    "xtrain /= 255\n",
    "xvalidation /= 255\n",
    "xtest /= 255\n",
    "\n",
    "\n",
    "#Prepare y\n",
    "ytrain0 = keras.utils.to_categorical(ytrain, classes)\n",
    "yvalidation0 = keras.utils.to_categorical(yvalidation, classes)\n",
    "ytest0=keras.utils.to_categorical(ytest, classes)"
   ]
  },
  {
   "cell_type": "code",
   "execution_count": 130,
   "metadata": {},
   "outputs": [],
   "source": [
    "im_Input = Input(shape=(xtrain.shape[1:]), name=\"input\")"
   ]
  },
  {
   "cell_type": "code",
   "execution_count": 131,
   "metadata": {},
   "outputs": [],
   "source": [
    "# Small VGG-like model\n",
    "def simpleVGG(im_Input, num_classes, name=\"vgg\"):\n",
    "    name = [name+str(i) for i in range(12)]\n",
    "    \n",
    "    # convolution and max pooling layers\n",
    "    vgg = Conv2D(32, (3, 3), padding='same', activation='relu', name=name[0])(im_Input)\n",
    "    vgg = Conv2D(32, (3, 3), padding='same', activation='relu', name=name[1])(vgg)\n",
    "    vgg = MaxPooling2D(pool_size=(2,2), name=name[2])(vgg)\n",
    "    vgg = Dropout(0.25, name=name[3])(vgg)\n",
    "    vgg = Conv2D(64, (3, 3), padding='same', activation='relu', name=name[4])(vgg)\n",
    "    vgg = Conv2D(64, (3, 3), padding='same', activation='relu', name=name[5])(vgg)\n",
    "    vgg = MaxPooling2D(pool_size=(2,2), name=name[6])(vgg)\n",
    "    vgg = Dropout(0.25, name=name[7])(vgg)\n",
    "\n",
    "    # classification layers\n",
    "    vgg = Flatten(name=name[8])(vgg)\n",
    "    vgg = Dense(512, activation='relu', name=name[9])(vgg)\n",
    "    vgg = Dropout(0.5, name=name[10])(vgg)\n",
    "    vgg = Dense(num_classes, activation='softmax', name=name[11])(vgg)\n",
    "    return vgg"
   ]
  },
  {
   "cell_type": "code",
   "execution_count": 138,
   "metadata": {},
   "outputs": [],
   "source": [
    "# Large VGG-like model\n",
    "def fatVGG(cifarInput, num_classes, name=\"vgg\"):\n",
    "    name = [name+str(i) for i in range(17)]\n",
    "    \n",
    "    # convolution and max pooling layers\n",
    "    vgg = Conv2D(32, (3, 3), padding='same', activation='relu', name=name[0])(cifarInput)\n",
    "    vgg = Conv2D(32, (3, 3), padding='same', activation='relu', name=name[1])(vgg)\n",
    "    vgg = MaxPooling2D(pool_size=(2,2), name=name[2])(vgg)\n",
    "    vgg = Dropout(0.25, name=name[3])(vgg)\n",
    "    vgg = Conv2D(64, (3, 3), padding='same', activation='relu', name=name[4])(vgg)\n",
    "    vgg = Conv2D(64, (3, 3), padding='same', activation='relu', name=name[5])(vgg)\n",
    "    vgg = MaxPooling2D(pool_size=(2,2), name=name[6])(vgg)\n",
    "    vgg = Dropout(0.25, name=name[7])(vgg)\n",
    "    vgg = Conv2D(128, (3, 3), padding='same', activation='relu', name=name[8])(vgg)\n",
    "    vgg = Conv2D(128, (3, 3), padding='same', activation='relu', name=name[9])(vgg)\n",
    "    vgg = Conv2D(128, (3, 3), padding='same', activation='relu', name=name[10])(vgg)\n",
    "    vgg = MaxPooling2D(pool_size=(2,2), name=name[11])(vgg)\n",
    "    vgg = Dropout(0.25, name=name[12])(vgg)\n",
    "\n",
    "    # classification layers\n",
    "    vgg = Flatten(name=name[13])(vgg)\n",
    "    vgg = Dense(512, activation='relu', name=name[14])(vgg)\n",
    "    vgg = Dropout(0.5, name=name[15])(vgg)\n",
    "    vgg = Dense(num_classes, activation='softmax', name=name[16])(vgg)\n",
    "    return vgg"
   ]
  },
  {
   "cell_type": "code",
   "execution_count": 160,
   "metadata": {},
   "outputs": [],
   "source": [
    "baseVGG = simpleVGG(im_Input, classes, \"base\")\n",
    "baseModel = Model(im_Input, baseVGG)\n",
    "# compile\n",
    "baseModel.compile(loss='categorical_crossentropy',\n",
    "                   optimizer=Adam(),\n",
    "                   metrics=['accuracy'])"
   ]
  },
  {
   "cell_type": "code",
   "execution_count": 124,
   "metadata": {},
   "outputs": [],
   "source": [
    "# get the newest model file within a directory\n",
    "def getNewestModel(model, dirname):\n",
    "    from glob import glob\n",
    "    target = os.path.join(dirname, '*')\n",
    "    files = [(f, os.path.getmtime(f)) for f in glob(target)]\n",
    "    if len(files) == 0:\n",
    "        return model\n",
    "    else:\n",
    "        newestModel = sorted(files, key=lambda files: files[1])[-1]\n",
    "        model.load_weights(newestModel[0])\n",
    "        return model\n",
    "    \n",
    "# make saving directory for checkpoints\n",
    "baseSaveDir = \"./base_Im/\"\n",
    "if not os.path.isdir(baseSaveDir):\n",
    "    os.makedirs(baseSaveDir)\n",
    "    \n",
    "# early stopping and model checkpoint\n",
    "es_cb = EarlyStopping(monitor='loss', patience=2, verbose=1, mode='auto')\n",
    "chkpt = os.path.join(baseSaveDir, 'Cifar10_.{epoch:02d}-{val_loss:.2f}.hdf5')\n",
    "cp_cb = ModelCheckpoint(filepath = chkpt, monitor='val_loss', verbose=1, save_best_only=True, mode='auto')\n",
    "\n",
    "# load the newest model data from the directory if exists\n",
    "baseModel = getNewestModel(baseModel, baseSaveDir)"
   ]
  },
  {
   "cell_type": "code",
   "execution_count": 161,
   "metadata": {},
   "outputs": [
    {
     "name": "stdout",
     "output_type": "stream",
     "text": [
      "Epoch 1/10\n",
      "192/192 [==============================] - ETA: 0s - loss: 1.1412 - accuracy: 0.5463\n",
      "Epoch 00001: val_loss did not improve from 0.53059\n",
      "192/192 [==============================] - 564s 3s/step - loss: 1.1412 - accuracy: 0.5463 - val_loss: 0.9018 - val_accuracy: 0.6343\n",
      "Epoch 2/10\n",
      "192/192 [==============================] - ETA: 0s - loss: 0.7696 - accuracy: 0.7069\n",
      "Epoch 00002: val_loss did not improve from 0.53059\n",
      "192/192 [==============================] - 535s 3s/step - loss: 0.7696 - accuracy: 0.7069 - val_loss: 0.6837 - val_accuracy: 0.7436\n",
      "Epoch 3/10\n",
      "192/192 [==============================] - ETA: 0s - loss: 0.6306 - accuracy: 0.7719\n",
      "Epoch 00003: val_loss did not improve from 0.53059\n",
      "192/192 [==============================] - 537s 3s/step - loss: 0.6306 - accuracy: 0.7719 - val_loss: 0.5842 - val_accuracy: 0.7827\n",
      "Epoch 4/10\n",
      "192/192 [==============================] - ETA: 0s - loss: 0.5186 - accuracy: 0.8078\n",
      "Epoch 00004: val_loss did not improve from 0.53059\n",
      "192/192 [==============================] - 538s 3s/step - loss: 0.5186 - accuracy: 0.8078 - val_loss: 0.5707 - val_accuracy: 0.7934\n",
      "Epoch 5/10\n",
      "192/192 [==============================] - ETA: 0s - loss: 0.4023 - accuracy: 0.8536\n",
      "Epoch 00005: val_loss did not improve from 0.53059\n",
      "192/192 [==============================] - 538s 3s/step - loss: 0.4023 - accuracy: 0.8536 - val_loss: 0.6202 - val_accuracy: 0.8056\n",
      "Epoch 6/10\n",
      "192/192 [==============================] - ETA: 0s - loss: 0.3009 - accuracy: 0.8949\n",
      "Epoch 00006: val_loss did not improve from 0.53059\n",
      "192/192 [==============================] - 537s 3s/step - loss: 0.3009 - accuracy: 0.8949 - val_loss: 0.6712 - val_accuracy: 0.7971\n",
      "Epoch 7/10\n",
      "192/192 [==============================] - ETA: 0s - loss: 0.2128 - accuracy: 0.9250\n",
      "Epoch 00007: val_loss did not improve from 0.53059\n",
      "192/192 [==============================] - 538s 3s/step - loss: 0.2128 - accuracy: 0.9250 - val_loss: 0.6257 - val_accuracy: 0.8137\n",
      "Epoch 8/10\n",
      "192/192 [==============================] - ETA: 0s - loss: 0.1536 - accuracy: 0.9466\n",
      "Epoch 00008: val_loss did not improve from 0.53059\n",
      "192/192 [==============================] - 469s 2s/step - loss: 0.1536 - accuracy: 0.9466 - val_loss: 0.7011 - val_accuracy: 0.7971\n",
      "Epoch 9/10\n",
      "192/192 [==============================] - ETA: 0s - loss: 0.1221 - accuracy: 0.9597\n",
      "Epoch 00009: val_loss did not improve from 0.53059\n",
      "192/192 [==============================] - 317s 2s/step - loss: 0.1221 - accuracy: 0.9597 - val_loss: 0.7751 - val_accuracy: 0.8118\n",
      "Epoch 10/10\n",
      "192/192 [==============================] - ETA: 0s - loss: 0.0910 - accuracy: 0.9705\n",
      "Epoch 00010: val_loss did not improve from 0.53059\n",
      "192/192 [==============================] - 326s 2s/step - loss: 0.0910 - accuracy: 0.9705 - val_loss: 0.8517 - val_accuracy: 0.7993\n"
     ]
    }
   ],
   "source": [
    "# Number of training/testing examples per batch\n",
    "batch_size = 50\n",
    "\n",
    "# Training epochs. A higher number of epochs corresponds to \"more fitting to training data\"\n",
    "epochs = 10\n",
    "\n",
    "# train\n",
    "history=baseModel.fit(xtrain, ytrain0,\n",
    "               batch_size=batch_size,\n",
    "               epochs=epochs,\n",
    "               validation_data=(xvalidation, yvalidation0),\n",
    "               callbacks=[es_cb,cp_cb])"
   ]
  },
  {
   "cell_type": "code",
   "execution_count": 137,
   "metadata": {},
   "outputs": [
    {
     "name": "stdout",
     "output_type": "stream",
     "text": [
      "134/134 [==============================] - 53s 395ms/step - loss: 0.3817 - accuracy: 0.8680\n",
      "[0.38170573115348816, 0.8680441379547119]\n"
     ]
    }
   ],
   "source": [
    "# evaluate\n",
    "baseModel = getNewestModel(baseModel, baseSaveDir)\n",
    "baseScore = baseModel.evaluate(xtest, ytest0)\n",
    "print(baseScore)"
   ]
  },
  {
   "cell_type": "code",
   "execution_count": 162,
   "metadata": {},
   "outputs": [
    {
     "data": {
      "text/plain": [
       "<matplotlib.legend.Legend at 0x26e38d44580>"
      ]
     },
     "execution_count": 162,
     "metadata": {},
     "output_type": "execute_result"
    },
    {
     "data": {
      "image/png": "[encoded data removed]",
      "text/plain": [
       "<Figure size 432x288 with 1 Axes>"
      ]
     },
     "metadata": {
      "needs_background": "light"
     },
     "output_type": "display_data"
    }
   ],
   "source": [
    "plt.plot(history.history['accuracy'], label='accuracy')\n",
    "plt.plot(history.history['val_accuracy'], label = 'val_accuracy')\n",
    "plt.xlabel('Epoch')\n",
    "plt.ylabel('Accuracy')\n",
    "plt.ylim([0.5, 1])\n",
    "plt.legend(loc='lower right')"
   ]
  },
  {
   "cell_type": "code",
   "execution_count": 92,
   "metadata": {},
   "outputs": [
    {
     "name": "stdout",
     "output_type": "stream",
     "text": [
      "Model: \"functional_8\"\n",
      "_________________________________________________________________\n",
      "Layer (type)                 Output Shape              Param #   \n",
      "=================================================================\n",
      "input (InputLayer)           [(None, 150, 150, 3)]     0         \n",
      "_________________________________________________________________\n",
      "base0 (Conv2D)               (None, 150, 150, 32)      896       \n",
      "_________________________________________________________________\n",
      "base1 (Conv2D)               (None, 150, 150, 32)      9248      \n",
      "_________________________________________________________________\n",
      "base2 (MaxPooling2D)         (None, 75, 75, 32)        0         \n",
      "_________________________________________________________________\n",
      "base3 (Dropout)              (None, 75, 75, 32)        0         \n",
      "_________________________________________________________________\n",
      "base4 (Conv2D)               (None, 75, 75, 64)        18496     \n",
      "_________________________________________________________________\n",
      "base5 (Conv2D)               (None, 75, 75, 64)        36928     \n",
      "_________________________________________________________________\n",
      "base6 (MaxPooling2D)         (None, 37, 37, 64)        0         \n",
      "_________________________________________________________________\n",
      "base7 (Dropout)              (None, 37, 37, 64)        0         \n",
      "_________________________________________________________________\n",
      "base8 (Conv2D)               (None, 37, 37, 128)       73856     \n",
      "_________________________________________________________________\n",
      "base9 (Conv2D)               (None, 37, 37, 128)       147584    \n",
      "_________________________________________________________________\n",
      "base10 (Conv2D)              (None, 37, 37, 128)       147584    \n",
      "_________________________________________________________________\n",
      "base11 (MaxPooling2D)        (None, 18, 18, 128)       0         \n",
      "_________________________________________________________________\n",
      "base12 (Dropout)             (None, 18, 18, 128)       0         \n",
      "_________________________________________________________________\n",
      "base13 (Flatten)             (None, 41472)             0         \n",
      "_________________________________________________________________\n",
      "base14 (Dense)               (None, 512)               21234176  \n",
      "_________________________________________________________________\n",
      "base15 (Dropout)             (None, 512)               0         \n",
      "_________________________________________________________________\n",
      "base16 (Dense)               (None, 6)                 3078      \n",
      "=================================================================\n",
      "Total params: 21,671,846\n",
      "Trainable params: 21,671,846\n",
      "Non-trainable params: 0\n",
      "_________________________________________________________________\n"
     ]
    }
   ],
   "source": [
    "baseModel.summary()"
   ]
  },
  {
   "cell_type": "code",
   "execution_count": 163,
   "metadata": {},
   "outputs": [],
   "source": [
    "y_pred = baseModel.predict(xtest)\n",
    "matrix = confusion_matrix(ytest0.argmax(axis=1), y_pred.argmax(axis=1))"
   ]
  },
  {
   "cell_type": "code",
   "execution_count": 164,
   "metadata": {},
   "outputs": [],
   "source": [
    "def plot_confusion_matrix(cm, classes,\n",
    "   normalize=False,\n",
    "   title='Confusion matrix',\n",
    "   cmap=plt.cm.Blues):\n",
    " \n",
    "    #Add Normalization Option\n",
    "    if normalize:\n",
    "        cm = cm.astype('float') / cm.sum(axis=1)[:, np.newaxis]\n",
    "        print(\"Normalized confusion matrix\")\n",
    "    else:\n",
    "         print(\"Confusion matrix, without normalization\")\n",
    " \n",
    "    plt.imshow(cm, interpolation=\"nearest\", cmap=cmap)\n",
    "    plt.title(title)\n",
    "    plt.colorbar()\n",
    "    tick_marks = np.arange(len(classes))\n",
    "    plt.xticks(tick_marks, classes, rotation=45)\n",
    "    plt.yticks(tick_marks, classes)\n",
    " \n",
    "    fmt = \".2f\" if normalize else \"d\"\n",
    "    thresh = cm.max() / 2.\n",
    "    for i, j in itertools.product(range(cm.shape[0]), range(cm.shape[1])):\n",
    "        plt.text(j, i, format(cm[i, j], fmt), horizontalalignment=\"center\", color=\"white\" if cm[i, j] > thresh else \"black\")\n",
    " \n",
    "    plt.tight_layout()\n",
    "    plt.ylabel(\"True label\")\n",
    "    plt.xlabel(\"Predicted label\") "
   ]
  },
  {
   "cell_type": "code",
   "execution_count": 165,
   "metadata": {},
   "outputs": [
    {
     "name": "stdout",
     "output_type": "stream",
     "text": [
      "Normalized confusion matrix\n"
     ]
    },
    {
     "data": {
      "image/png": "[encoded data removed]",
      "text/plain": [
       "<Figure size 432x288 with 2 Axes>"
      ]
     },
     "metadata": {
      "needs_background": "light"
     },
     "output_type": "display_data"
    }
   ],
   "source": [
    "plot_confusion_matrix(matrix, [\"buildings\",\"forest\",\"glacier\",\"mountain\",\"sea\",\"street\"], normalize=True)"
   ]
  },
  {
   "cell_type": "code",
   "execution_count": null,
   "metadata": {},
   "outputs": [],
   "source": []
  }
 ],
 "metadata": {
  "kernelspec": {
   "display_name": "Python 3",
   "language": "python",
   "name": "python3"
  }
 },
 "nbformat": 4,
 "nbformat_minor": 4
}
