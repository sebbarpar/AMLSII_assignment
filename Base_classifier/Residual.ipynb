{
 "cells": [
  {
   "cell_type": "code",
   "execution_count": 9,
   "metadata": {},
   "outputs": [],
   "source": [
    "import keras\n",
    "from keras.models import Model\n",
    "from keras.layers import Dense, Dropout, Flatten, BatchNormalization, Input\n",
    "from keras.layers import Conv2D, MaxPooling2D\n",
    "from keras.layers import concatenate, Lambda, Reshape\n",
    "from keras.callbacks import EarlyStopping, ModelCheckpoint\n",
    "from keras.optimizers import Adam\n",
    "import keras.backend as K\n",
    "from keras.datasets import cifar10\n",
    "from keras.utils.vis_utils import model_to_dot\n",
    "from keras.utils import plot_model\n",
    "from sklearn.utils import shuffle\n",
    "from keras.layers import add\n",
    "from keras.layers import Activation\n",
    "from sklearn.model_selection import train_test_split\n",
    "from keras.applications.inception_v3 import InceptionV3\n",
    "\n",
    "from sklearn.metrics import classification_report, confusion_matrix\n",
    "import cv2\n",
    "\n",
    "import itertools\n",
    "import numpy as np\n",
    "import os\n",
    "import copy\n",
    "import matplotlib.pyplot as plt\n",
    "import pandas as pd\n",
    "import seaborn as sn\n",
    "import pydot\n",
    "from IPython.display import SVG"
   ]
  },
  {
   "cell_type": "code",
   "execution_count": 2,
   "metadata": {},
   "outputs": [],
   "source": [
    "def getimages(direct):\n",
    "    im=[]\n",
    "    label=[]\n",
    "    lab=0\n",
    "    for labels in os.listdir(direct):\n",
    "        #Label corresponding to folder\n",
    "        if labels==\"buildings\":\n",
    "            lab=0\n",
    "        if labels==\"forest\":\n",
    "            lab=1\n",
    "        if labels==\"glacier\":\n",
    "            lab=2\n",
    "        if labels==\"mountain\":\n",
    "            lab=3\n",
    "        if labels==\"sea\":\n",
    "            lab=4\n",
    "        if labels==\"street\":\n",
    "            lab=5\n",
    "        for image in os.listdir(direct+r'/'+labels):\n",
    "            #Read images\n",
    "            imag=cv2.imread(direct+r'/'+labels+r'/'+image)\n",
    "            imag=cv2.resize(imag,(150,150))\n",
    "            \n",
    "            im.append(imag)\n",
    "            label.append(lab)\n",
    "    #Suffle all images\n",
    "    return shuffle(im, label)\n",
    "\n",
    "#Obtain both train and test images\n",
    "im,label=getimages(\"archive\\seg_train\\seg_train\")      \n",
    "im1,label1=getimages(\"archive\\seg_test\\seg_test\") \n",
    "img=im+im1\n",
    "lab=label+label1\n",
    "\n",
    "#Convert to numpy array\n",
    "Images=np.array(img)\n",
    "Labels=np.array(lab)\n",
    "\n",
    "classes=6"
   ]
  },
  {
   "cell_type": "code",
   "execution_count": 4,
   "metadata": {},
   "outputs": [],
   "source": [
    "#Split into train, validation and test\n",
    "x1, xtest, y1,ytest=train_test_split(Images, Labels, random_state=0)\n",
    "xtrain, xvalidation, ytrain, yvalidation=train_test_split(x1, y1, random_state=0)\n",
    "\n",
    "#Prepare x\n",
    "xtrain = xtrain.astype('float32')\n",
    "xvalidation = xvalidation.astype('float32')\n",
    "xtest=xtest.astype('float32')\n",
    "xtrain /= 255\n",
    "xvalidation /= 255\n",
    "xtest /= 255\n",
    "\n",
    "\n",
    "#Prepare y\n",
    "ytrain0 = keras.utils.to_categorical(ytrain, classes)\n",
    "yvalidation0 = keras.utils.to_categorical(yvalidation, classes)\n",
    "ytest0=keras.utils.to_categorical(ytest, classes)"
   ]
  },
  {
   "cell_type": "code",
   "execution_count": 5,
   "metadata": {},
   "outputs": [],
   "source": [
    "def residual_module(layer_in, n_filters):\n",
    "    merge_input = layer_in\n",
    "    # check if the number of filters needs to be increase, assumes channels last format\n",
    "    if layer_in.shape[-1] != n_filters:\n",
    "        merge_input = Conv2D(n_filters, (1,1), padding='same', activation='relu', kernel_initializer='he_normal')(layer_in)\n",
    "    # conv1\n",
    "    conv1 = Conv2D(n_filters, (3,3), padding='same', activation='relu', kernel_initializer='he_normal')(layer_in)\n",
    "    # conv2\n",
    "    conv2 = Conv2D(n_filters, (3,3), padding='same', activation='linear', kernel_initializer='he_normal')(conv1)\n",
    "    # add filters, assumes filters/channels last\n",
    "    layer_out = add([conv2, merge_input])\n",
    "    # activation function\n",
    "    layer_out = Activation('relu')(layer_out)\n",
    "    return layer_out"
   ]
  },
  {
   "cell_type": "code",
   "execution_count": 10,
   "metadata": {},
   "outputs": [],
   "source": [
    "im_Input = Input(shape=(xtrain.shape[1:]), name=\"input\")\n",
    "layer = residual_module(im_Input, 64)"
   ]
  },
  {
   "cell_type": "code",
   "execution_count": 13,
   "metadata": {},
   "outputs": [],
   "source": [
    "layer = Flatten()(layer)\n",
    "#Inception = Dense(512, activation='relu')(Inception)\n",
    "layer = Dropout(0.5)(layer)\n",
    "layer = Dense(classes, activation='softmax')(layer)"
   ]
  },
  {
   "cell_type": "code",
   "execution_count": 14,
   "metadata": {},
   "outputs": [],
   "source": [
    "baseModel = Model(im_Input, layer)\n",
    "\n",
    "# compile\n",
    "baseModel.compile(loss='categorical_crossentropy',\n",
    "                   optimizer=Adam(),\n",
    "                   metrics=['accuracy'])"
   ]
  },
  {
   "cell_type": "code",
   "execution_count": 16,
   "metadata": {},
   "outputs": [],
   "source": [
    "# get the newest model file within a directory\n",
    "def getNewestModel(model, dirname):\n",
    "    from glob import glob\n",
    "    target = os.path.join(dirname, '*')\n",
    "    files = [(f, os.path.getmtime(f)) for f in glob(target)]\n",
    "    if len(files) == 0:\n",
    "        return model\n",
    "    else:\n",
    "        newestModel = sorted(files, key=lambda files: files[1])[-1]\n",
    "        model.load_weights(newestModel[0])\n",
    "        return model\n",
    "# make saving directory for checkpoints\n",
    "baseSaveDir = \"./Res/\"\n",
    "if not os.path.isdir(baseSaveDir):\n",
    "    os.makedirs(baseSaveDir)\n",
    "    \n",
    "# early stopping and model checkpoint\n",
    "es_cb = EarlyStopping(monitor='loss', patience=2, verbose=1, mode='auto')\n",
    "chkpt = os.path.join(baseSaveDir, 'Res.{epoch:02d}-{val_loss:.2f}.hdf5')\n",
    "cp_cb = ModelCheckpoint(filepath = chkpt, monitor='val_loss', verbose=1, save_best_only=True, mode='auto')\n",
    "\n",
    "# load the newest model data from the directory if exists\n",
    "baseModel = getNewestModel(baseModel, baseSaveDir)"
   ]
  },
  {
   "cell_type": "code",
   "execution_count": 17,
   "metadata": {},
   "outputs": [
    {
     "name": "stdout",
     "output_type": "stream",
     "text": [
      "Epoch 1/10\n",
      "192/192 [==============================] - ETA: 0s - loss: 18.5130 - accuracy: 0.5071\n",
      "Epoch 00001: val_loss improved from inf to 0.97361, saving model to ./Res\\Res.01-0.97.hdf5\n",
      "192/192 [==============================] - 831s 4s/step - loss: 18.5130 - accuracy: 0.5071 - val_loss: 0.9736 - val_accuracy: 0.6312\n",
      "Epoch 2/10\n",
      "192/192 [==============================] - ETA: 0s - loss: 0.7440 - accuracy: 0.7303\n",
      "Epoch 00002: val_loss improved from 0.97361 to 0.91963, saving model to ./Res\\Res.02-0.92.hdf5\n",
      "192/192 [==============================] - 779s 4s/step - loss: 0.7440 - accuracy: 0.7303 - val_loss: 0.9196 - val_accuracy: 0.6662\n",
      "Epoch 3/10\n",
      "192/192 [==============================] - ETA: 0s - loss: 0.4296 - accuracy: 0.8503\n",
      "Epoch 00003: val_loss did not improve from 0.91963\n",
      "192/192 [==============================] - 487s 3s/step - loss: 0.4296 - accuracy: 0.8503 - val_loss: 1.0768 - val_accuracy: 0.6703\n",
      "Epoch 4/10\n",
      "192/192 [==============================] - ETA: 0s - loss: 0.2105 - accuracy: 0.9339\n",
      "Epoch 00004: val_loss did not improve from 0.91963\n",
      "192/192 [==============================] - 491s 3s/step - loss: 0.2105 - accuracy: 0.9339 - val_loss: 1.2010 - val_accuracy: 0.6725\n",
      "Epoch 5/10\n",
      "192/192 [==============================] - ETA: 0s - loss: 0.1346 - accuracy: 0.9618\n",
      "Epoch 00005: val_loss did not improve from 0.91963\n",
      "192/192 [==============================] - 494s 3s/step - loss: 0.1346 - accuracy: 0.9618 - val_loss: 1.2518 - val_accuracy: 0.6728\n",
      "Epoch 6/10\n",
      "192/192 [==============================] - ETA: 0s - loss: 0.0992 - accuracy: 0.9729\n",
      "Epoch 00006: val_loss did not improve from 0.91963\n",
      "192/192 [==============================] - 493s 3s/step - loss: 0.0992 - accuracy: 0.9729 - val_loss: 1.4461 - val_accuracy: 0.6703\n",
      "Epoch 7/10\n",
      "192/192 [==============================] - ETA: 0s - loss: 0.0800 - accuracy: 0.9804\n",
      "Epoch 00007: val_loss did not improve from 0.91963\n",
      "192/192 [==============================] - 492s 3s/step - loss: 0.0800 - accuracy: 0.9804 - val_loss: 1.6625 - val_accuracy: 0.6697\n",
      "Epoch 8/10\n",
      "192/192 [==============================] - ETA: 0s - loss: 0.0767 - accuracy: 0.9807\n",
      "Epoch 00008: val_loss did not improve from 0.91963\n",
      "192/192 [==============================] - 492s 3s/step - loss: 0.0767 - accuracy: 0.9807 - val_loss: 1.9779 - val_accuracy: 0.6399\n",
      "Epoch 9/10\n",
      "192/192 [==============================] - ETA: 0s - loss: 0.0785 - accuracy: 0.9803\n",
      "Epoch 00009: val_loss did not improve from 0.91963\n",
      "192/192 [==============================] - 493s 3s/step - loss: 0.0785 - accuracy: 0.9803 - val_loss: 1.7451 - val_accuracy: 0.6647\n",
      "Epoch 10/10\n",
      "192/192 [==============================] - ETA: 0s - loss: 0.0585 - accuracy: 0.9841\n",
      "Epoch 00010: val_loss did not improve from 0.91963\n",
      "192/192 [==============================] - 499s 3s/step - loss: 0.0585 - accuracy: 0.9841 - val_loss: 1.8162 - val_accuracy: 0.6744\n"
     ]
    }
   ],
   "source": [
    "# Number of training/testing examples per batch\n",
    "batch_size = 50\n",
    "\n",
    "# Training epochs. \n",
    "epochs = 10\n",
    "\n",
    "# train\n",
    "history=baseModel.fit(xtrain, ytrain0,\n",
    "               batch_size=batch_size,\n",
    "               epochs=epochs,\n",
    "               validation_data=(xvalidation, yvalidation0),\n",
    "               callbacks=[es_cb,cp_cb])"
   ]
  },
  {
   "cell_type": "code",
   "execution_count": 15,
   "metadata": {},
   "outputs": [
    {
     "name": "stdout",
     "output_type": "stream",
     "text": [
      "Model: \"functional_3\"\n",
      "__________________________________________________________________________________________________\n",
      "Layer (type)                    Output Shape         Param #     Connected to                     \n",
      "==================================================================================================\n",
      "input (InputLayer)              [(None, 150, 150, 3) 0                                            \n",
      "__________________________________________________________________________________________________\n",
      "conv2d_7 (Conv2D)               (None, 150, 150, 64) 1792        input[0][0]                      \n",
      "__________________________________________________________________________________________________\n",
      "conv2d_8 (Conv2D)               (None, 150, 150, 64) 36928       conv2d_7[0][0]                   \n",
      "__________________________________________________________________________________________________\n",
      "conv2d_6 (Conv2D)               (None, 150, 150, 64) 256         input[0][0]                      \n",
      "__________________________________________________________________________________________________\n",
      "add_1 (Add)                     (None, 150, 150, 64) 0           conv2d_8[0][0]                   \n",
      "                                                                 conv2d_6[0][0]                   \n",
      "__________________________________________________________________________________________________\n",
      "activation (Activation)         (None, 150, 150, 64) 0           add_1[0][0]                      \n",
      "__________________________________________________________________________________________________\n",
      "flatten (Flatten)               (None, 1440000)      0           activation[0][0]                 \n",
      "__________________________________________________________________________________________________\n",
      "dropout (Dropout)               (None, 1440000)      0           flatten[0][0]                    \n",
      "__________________________________________________________________________________________________\n",
      "dense (Dense)                   (None, 6)            8640006     dropout[0][0]                    \n",
      "==================================================================================================\n",
      "Total params: 8,678,982\n",
      "Trainable params: 8,678,982\n",
      "Non-trainable params: 0\n",
      "__________________________________________________________________________________________________\n"
     ]
    }
   ],
   "source": [
    "baseModel.summary()"
   ]
  },
  {
   "cell_type": "code",
   "execution_count": 18,
   "metadata": {},
   "outputs": [
    {
     "data": {
      "text/plain": [
       "<matplotlib.legend.Legend at 0x21fce66f4c0>"
      ]
     },
     "execution_count": 18,
     "metadata": {},
     "output_type": "execute_result"
    },
    {
     "data": {
      "image/png": "[encoded data removed]",
      "text/plain": [
       "<Figure size 432x288 with 1 Axes>"
      ]
     },
     "metadata": {
      "needs_background": "light"
     },
     "output_type": "display_data"
    }
   ],
   "source": [
    "plt.plot(history.history['accuracy'], label='accuracy')\n",
    "plt.plot(history.history['val_accuracy'], label = 'val_accuracy')\n",
    "plt.xlabel('Epoch')\n",
    "plt.ylabel('Accuracy')\n",
    "plt.ylim([0.5, 1])\n",
    "plt.legend(loc='lower right')"
   ]
  },
  {
   "cell_type": "code",
   "execution_count": null,
   "metadata": {},
   "outputs": [],
   "source": []
  }
 ],
 "metadata": {
  "kernelspec": {
   "display_name": "Python 3",
   "language": "python",
   "name": "python3"
  },
  "language_info": {
   "codemirror_mode": {
    "name": "ipython",
    "version": 3
   },
   "file_extension": ".py",
   "mimetype": "text/x-python",
   "name": "python",
   "nbconvert_exporter": "python",
   "pygments_lexer": "ipython3",
   "version": "3.8.3"
  }
 },
 "nbformat": 4,
 "nbformat_minor": 4
}
