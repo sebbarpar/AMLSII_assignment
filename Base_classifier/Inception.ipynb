{
 "cells": [
  {
   "cell_type": "code",
   "execution_count": 1,
   "metadata": {},
   "outputs": [],
   "source": [
    "import keras\n",
    "from keras.models import Model\n",
    "from keras.layers import Dense, Dropout, Flatten, BatchNormalization, Input\n",
    "from keras.layers import Conv2D, MaxPooling2D\n",
    "from keras.layers import concatenate, Lambda, Reshape\n",
    "from keras.callbacks import EarlyStopping, ModelCheckpoint\n",
    "from keras.optimizers import Adam\n",
    "import keras.backend as K\n",
    "from keras.datasets import cifar10\n",
    "from keras.utils.vis_utils import model_to_dot\n",
    "from keras.utils import plot_model\n",
    "from sklearn.utils import shuffle\n",
    "from sklearn.model_selection import train_test_split\n",
    "from keras.applications.inception_v3 import InceptionV3\n",
    "\n",
    "from sklearn.metrics import classification_report, confusion_matrix\n",
    "import cv2\n",
    "\n",
    "import itertools\n",
    "import numpy as np\n",
    "import os\n",
    "import copy\n",
    "import matplotlib.pyplot as plt\n",
    "import pandas as pd\n",
    "import seaborn as sn\n",
    "import pydot\n",
    "from IPython.display import SVG"
   ]
  },
  {
   "cell_type": "code",
   "execution_count": 3,
   "metadata": {},
   "outputs": [],
   "source": [
    "def getimages(direct):\n",
    "    im=[]\n",
    "    label=[]\n",
    "    lab=0\n",
    "    for labels in os.listdir(direct):\n",
    "        #Label corresponding to folder\n",
    "        if labels==\"buildings\":\n",
    "            lab=0\n",
    "        if labels==\"forest\":\n",
    "            lab=1\n",
    "        if labels==\"glacier\":\n",
    "            lab=2\n",
    "        if labels==\"mountain\":\n",
    "            lab=3\n",
    "        if labels==\"sea\":\n",
    "            lab=4\n",
    "        if labels==\"street\":\n",
    "            lab=5\n",
    "        for image in os.listdir(direct+r'/'+labels):\n",
    "            #Read images\n",
    "            imag=cv2.imread(direct+r'/'+labels+r'/'+image)\n",
    "            imag=cv2.resize(imag,(150,150))\n",
    "            \n",
    "            im.append(imag)\n",
    "            label.append(lab)\n",
    "    #Suffle all images\n",
    "    return shuffle(im, label)\n",
    "\n",
    "#Obtain both train and test images\n",
    "im,label=getimages(\"archive\\seg_train\\seg_train\")      \n",
    "im1,label1=getimages(\"archive\\seg_test\\seg_test\") \n",
    "img=im+im1\n",
    "lab=label+label1\n",
    "\n",
    "#Convert to numpy array\n",
    "Images=np.array(img)\n",
    "Labels=np.array(lab)\n",
    "\n",
    "classes=6"
   ]
  },
  {
   "cell_type": "code",
   "execution_count": 6,
   "metadata": {},
   "outputs": [],
   "source": [
    "#Split into train, validation and test\n",
    "x1, xtest, y1,ytest=train_test_split(Images, Labels, random_state=0)\n",
    "xtrain, xvalidation, ytrain, yvalidation=train_test_split(x1, y1, random_state=0)\n",
    "\n",
    "#Prepare x\n",
    "xtrain = xtrain.astype('float32')\n",
    "xvalidation = xvalidation.astype('float32')\n",
    "xtest=xtest.astype('float32')\n",
    "xtrain /= 255\n",
    "xvalidation /= 255\n",
    "xtest /= 255\n",
    "\n",
    "\n",
    "#Prepare y\n",
    "ytrain0 = keras.utils.to_categorical(ytrain, classes)\n",
    "yvalidation0 = keras.utils.to_categorical(yvalidation, classes)\n",
    "ytest0=keras.utils.to_categorical(ytest, classes)"
   ]
  },
  {
   "cell_type": "code",
   "execution_count": 33,
   "metadata": {},
   "outputs": [],
   "source": [
    "def inception_module(layer_in, f1, f2_in, f2_out, f3_in, f3_out, f4_out):\n",
    "    # 1x1 conv\n",
    "    conv1 = Conv2D(f1, (1,1), padding='same', activation='relu')(layer_in)\n",
    "    # 3x3 conv\n",
    "    conv3 = Conv2D(f2_in, (1,1), padding='same', activation='relu')(layer_in)\n",
    "    conv3 = Conv2D(f2_out, (3,3), padding='same', activation='relu')(conv3)\n",
    "    # 5x5 conv\n",
    "    conv5 = Conv2D(f3_in, (1,1), padding='same', activation='relu')(layer_in)\n",
    "    conv5 = Conv2D(f3_out, (5,5), padding='same', activation='relu')(conv5)\n",
    "    # 3x3 max pooling\n",
    "    pool = MaxPooling2D((3,3), strides=(1,1), padding='same')(layer_in)\n",
    "    pool = Conv2D(f4_out, (1,1), padding='same', activation='relu')(pool)\n",
    "    \n",
    "    \n",
    "    # concatenate filters, assumes filters/channels last\n",
    "    layer_out = concatenate([conv1, conv3, conv5, pool], axis=-1)\n",
    "\n",
    "    # classification layers\n",
    "    return layer_out"
   ]
  },
  {
   "cell_type": "code",
   "execution_count": 81,
   "metadata": {},
   "outputs": [],
   "source": [
    "im_Input = Input(shape=(xtrain.shape[1:]), name=\"input\")\n",
    "Inception = inception_module(im_Input, 64, 96, 128, 16, 32, 32)\n",
    "#Inception = inception_module(Inception, 128, 128, 192, 32, 96, 64)\n"
   ]
  },
  {
   "cell_type": "code",
   "execution_count": 82,
   "metadata": {},
   "outputs": [],
   "source": [
    "Inception = Flatten()(Inception)\n",
    "#Inception = Dense(512, activation='relu')(Inception)\n",
    "Inception = Dropout(0.5)(Inception)\n",
    "Inception = Dense(classes, activation='softmax')(Inception)"
   ]
  },
  {
   "cell_type": "code",
   "execution_count": 83,
   "metadata": {},
   "outputs": [],
   "source": [
    "baseModel = Model(im_Input, Inception)\n",
    "\n",
    "# compile\n",
    "baseModel.compile(loss='categorical_crossentropy',\n",
    "                   optimizer=Adam(),\n",
    "                   metrics=['accuracy'])"
   ]
  },
  {
   "cell_type": "code",
   "execution_count": 9,
   "metadata": {},
   "outputs": [],
   "source": [
    "# get the newest model file within a directory\n",
    "def getNewestModel(model, dirname):\n",
    "    from glob import glob\n",
    "    target = os.path.join(dirname, '*')\n",
    "    files = [(f, os.path.getmtime(f)) for f in glob(target)]\n",
    "    if len(files) == 0:\n",
    "        return model\n",
    "    else:\n",
    "        newestModel = sorted(files, key=lambda files: files[1])[-1]\n",
    "        model.load_weights(newestModel[0])\n",
    "        return model"
   ]
  },
  {
   "cell_type": "code",
   "execution_count": 10,
   "metadata": {},
   "outputs": [],
   "source": [
    "# make saving directory for checkpoints\n",
    "baseSaveDir = \"./Incep_base_Im/\"\n",
    "if not os.path.isdir(baseSaveDir):\n",
    "    os.makedirs(baseSaveDir)\n",
    "    \n",
    "# early stopping and model checkpoint\n",
    "es_cb = EarlyStopping(monitor='loss', patience=2, verbose=1, mode='auto')\n",
    "chkpt = os.path.join(baseSaveDir, 'Incep_base_Im.{epoch:02d}-{val_loss:.2f}.hdf5')\n",
    "cp_cb = ModelCheckpoint(filepath = chkpt, monitor='val_loss', verbose=1, save_best_only=True, mode='auto')\n",
    "\n",
    "# load the newest model data from the directory if exists\n",
    "baseModel = getNewestModel(baseModel, baseSaveDir)"
   ]
  },
  {
   "cell_type": "code",
   "execution_count": 84,
   "metadata": {},
   "outputs": [
    {
     "name": "stdout",
     "output_type": "stream",
     "text": [
      "Epoch 1/10\n",
      "192/192 [==============================] - ETA: 0s - loss: 16.2499 - accuracy: 0.4701\n",
      "Epoch 00001: val_loss improved from inf to 3.13766, saving model to ./Incep_base_Im\\Incep_base_Im.01-3.14.hdf5\n",
      "192/192 [==============================] - 1477s 8s/step - loss: 16.2499 - accuracy: 0.4701 - val_loss: 3.1377 - val_accuracy: 0.5564\n",
      "Epoch 2/10\n",
      "192/192 [==============================] - ETA: 0s - loss: 2.0384 - accuracy: 0.6334\n",
      "Epoch 00002: val_loss improved from 3.13766 to 1.16166, saving model to ./Incep_base_Im\\Incep_base_Im.02-1.16.hdf5\n",
      "192/192 [==============================] - 1718s 9s/step - loss: 2.0384 - accuracy: 0.6334 - val_loss: 1.1617 - val_accuracy: 0.6772\n",
      "Epoch 3/10\n",
      "192/192 [==============================] - ETA: 0s - loss: 0.6477 - accuracy: 0.7964\n",
      "Epoch 00003: val_loss improved from 1.16166 to 1.15317, saving model to ./Incep_base_Im\\Incep_base_Im.03-1.15.hdf5\n",
      "192/192 [==============================] - 1891s 10s/step - loss: 0.6477 - accuracy: 0.7964 - val_loss: 1.1532 - val_accuracy: 0.6600\n",
      "Epoch 4/10\n",
      "192/192 [==============================] - ETA: 0s - loss: 0.3101 - accuracy: 0.8943\n",
      "Epoch 00004: val_loss improved from 1.15317 to 1.03213, saving model to ./Incep_base_Im\\Incep_base_Im.04-1.03.hdf5\n",
      "192/192 [==============================] - 1287s 7s/step - loss: 0.3101 - accuracy: 0.8943 - val_loss: 1.0321 - val_accuracy: 0.7195\n",
      "Epoch 5/10\n",
      "192/192 [==============================] - ETA: 0s - loss: 0.1469 - accuracy: 0.9545\n",
      "Epoch 00005: val_loss did not improve from 1.03213\n",
      "192/192 [==============================] - 1272s 7s/step - loss: 0.1469 - accuracy: 0.9545 - val_loss: 1.0791 - val_accuracy: 0.7332\n",
      "Epoch 6/10\n",
      "192/192 [==============================] - ETA: 0s - loss: 0.0978 - accuracy: 0.9687\n",
      "Epoch 00006: val_loss did not improve from 1.03213\n",
      "192/192 [==============================] - 1273s 7s/step - loss: 0.0978 - accuracy: 0.9687 - val_loss: 1.1898 - val_accuracy: 0.7126\n",
      "Epoch 7/10\n",
      "192/192 [==============================] - ETA: 0s - loss: 0.0629 - accuracy: 0.9852\n",
      "Epoch 00007: val_loss did not improve from 1.03213\n",
      "192/192 [==============================] - 1310s 7s/step - loss: 0.0629 - accuracy: 0.9852 - val_loss: 1.2885 - val_accuracy: 0.7091\n",
      "Epoch 8/10\n",
      "192/192 [==============================] - ETA: 0s - loss: 0.0549 - accuracy: 0.9876\n",
      "Epoch 00008: val_loss did not improve from 1.03213\n",
      "192/192 [==============================] - 1361s 7s/step - loss: 0.0549 - accuracy: 0.9876 - val_loss: 1.5130 - val_accuracy: 0.7151\n",
      "Epoch 9/10\n",
      "192/192 [==============================] - ETA: 0s - loss: 0.0617 - accuracy: 0.9858\n",
      "Epoch 00009: val_loss did not improve from 1.03213\n",
      "192/192 [==============================] - 1372s 7s/step - loss: 0.0617 - accuracy: 0.9858 - val_loss: 1.4209 - val_accuracy: 0.7098\n",
      "Epoch 10/10\n",
      "192/192 [==============================] - ETA: 0s - loss: 0.0518 - accuracy: 0.9862\n",
      "Epoch 00010: val_loss did not improve from 1.03213\n",
      "192/192 [==============================] - 1360s 7s/step - loss: 0.0518 - accuracy: 0.9862 - val_loss: 1.4472 - val_accuracy: 0.7179\n"
     ]
    }
   ],
   "source": [
    "# Number of training/testing examples per batch\n",
    "batch_size = 50\n",
    "\n",
    "# Training epochs. \n",
    "epochs = 10\n",
    "\n",
    "# train\n",
    "history=baseModel.fit(xtrain, ytrain0,\n",
    "               batch_size=batch_size,\n",
    "               epochs=epochs,\n",
    "               validation_data=(xvalidation, yvalidation0),\n",
    "               callbacks=[es_cb,cp_cb])"
   ]
  },
  {
   "cell_type": "code",
   "execution_count": 85,
   "metadata": {},
   "outputs": [
    {
     "data": {
      "text/plain": [
       "<matplotlib.legend.Legend at 0x2bb1081dfa0>"
      ]
     },
     "execution_count": 85,
     "metadata": {},
     "output_type": "execute_result"
    },
    {
     "data": {
      "image/png": "[encoded data removed]",
      "text/plain": [
       "<Figure size 432x288 with 1 Axes>"
      ]
     },
     "metadata": {
      "needs_background": "light"
     },
     "output_type": "display_data"
    }
   ],
   "source": [
    "plt.plot(history.history['accuracy'], label='accuracy')\n",
    "plt.plot(history.history['val_accuracy'], label = 'val_accuracy')\n",
    "plt.xlabel('Epoch')\n",
    "plt.ylabel('Accuracy')\n",
    "plt.ylim([0.5, 1])\n",
    "plt.legend(loc='lower right')"
   ]
  },
  {
   "cell_type": "code",
   "execution_count": 15,
   "metadata": {},
   "outputs": [
    {
     "data": {
      "text/plain": [
       "(9581, 6)"
      ]
     },
     "execution_count": 15,
     "metadata": {},
     "output_type": "execute_result"
    }
   ],
   "source": [
    "ytrain0.shape"
   ]
  },
  {
   "cell_type": "code",
   "execution_count": 20,
   "metadata": {},
   "outputs": [
    {
     "data": {
      "text/plain": [
       "(150, 150, 3)"
      ]
     },
     "execution_count": 20,
     "metadata": {},
     "output_type": "execute_result"
    }
   ],
   "source": [
    "xtrain.shape[1:]"
   ]
  },
  {
   "cell_type": "code",
   "execution_count": 73,
   "metadata": {},
   "outputs": [
    {
     "name": "stdout",
     "output_type": "stream",
     "text": [
      "Model: \"functional_19\"\n",
      "__________________________________________________________________________________________________\n",
      "Layer (type)                    Output Shape         Param #     Connected to                     \n",
      "==================================================================================================\n",
      "input (InputLayer)              [(None, 150, 150, 3) 0                                            \n",
      "__________________________________________________________________________________________________\n",
      "conv2d_133 (Conv2D)             (None, 150, 150, 96) 384         input[0][0]                      \n",
      "__________________________________________________________________________________________________\n",
      "conv2d_135 (Conv2D)             (None, 150, 150, 16) 64          input[0][0]                      \n",
      "__________________________________________________________________________________________________\n",
      "max_pooling2d_22 (MaxPooling2D) (None, 150, 150, 3)  0           input[0][0]                      \n",
      "__________________________________________________________________________________________________\n",
      "conv2d_132 (Conv2D)             (None, 150, 150, 64) 256         input[0][0]                      \n",
      "__________________________________________________________________________________________________\n",
      "conv2d_134 (Conv2D)             (None, 150, 150, 128 110720      conv2d_133[0][0]                 \n",
      "__________________________________________________________________________________________________\n",
      "conv2d_136 (Conv2D)             (None, 150, 150, 32) 12832       conv2d_135[0][0]                 \n",
      "__________________________________________________________________________________________________\n",
      "conv2d_137 (Conv2D)             (None, 150, 150, 32) 128         max_pooling2d_22[0][0]           \n",
      "__________________________________________________________________________________________________\n",
      "concatenate_17 (Concatenate)    (None, 150, 150, 256 0           conv2d_132[0][0]                 \n",
      "                                                                 conv2d_134[0][0]                 \n",
      "                                                                 conv2d_136[0][0]                 \n",
      "                                                                 conv2d_137[0][0]                 \n",
      "__________________________________________________________________________________________________\n",
      "conv2d_139 (Conv2D)             (None, 150, 150, 128 32896       concatenate_17[0][0]             \n",
      "__________________________________________________________________________________________________\n",
      "conv2d_141 (Conv2D)             (None, 150, 150, 32) 8224        concatenate_17[0][0]             \n",
      "__________________________________________________________________________________________________\n",
      "max_pooling2d_23 (MaxPooling2D) (None, 150, 150, 256 0           concatenate_17[0][0]             \n",
      "__________________________________________________________________________________________________\n",
      "conv2d_138 (Conv2D)             (None, 150, 150, 128 32896       concatenate_17[0][0]             \n",
      "__________________________________________________________________________________________________\n",
      "conv2d_140 (Conv2D)             (None, 150, 150, 192 221376      conv2d_139[0][0]                 \n",
      "__________________________________________________________________________________________________\n",
      "conv2d_142 (Conv2D)             (None, 150, 150, 96) 76896       conv2d_141[0][0]                 \n",
      "__________________________________________________________________________________________________\n",
      "conv2d_143 (Conv2D)             (None, 150, 150, 64) 16448       max_pooling2d_23[0][0]           \n",
      "__________________________________________________________________________________________________\n",
      "concatenate_18 (Concatenate)    (None, 150, 150, 480 0           conv2d_138[0][0]                 \n",
      "                                                                 conv2d_140[0][0]                 \n",
      "                                                                 conv2d_142[0][0]                 \n",
      "                                                                 conv2d_143[0][0]                 \n",
      "__________________________________________________________________________________________________\n",
      "flatten_16 (Flatten)            (None, 10800000)     0           concatenate_18[0][0]             \n",
      "__________________________________________________________________________________________________\n",
      "dropout_1 (Dropout)             (None, 10800000)     0           flatten_16[0][0]                 \n",
      "__________________________________________________________________________________________________\n",
      "dense_10 (Dense)                (None, 6)            64800006    dropout_1[0][0]                  \n",
      "==================================================================================================\n",
      "Total params: 65,313,126\n",
      "Trainable params: 65,313,126\n",
      "Non-trainable params: 0\n",
      "__________________________________________________________________________________________________\n"
     ]
    }
   ],
   "source": [
    "baseModel.summary()"
   ]
  },
  {
   "cell_type": "code",
   "execution_count": null,
   "metadata": {},
   "outputs": [],
   "source": []
  }
 ],
 "metadata": {
  "kernelspec": {
   "display_name": "Python 3",
   "language": "python",
   "name": "python3"
  },
  "language_info": {
   "codemirror_mode": {
    "name": "ipython",
    "version": 3
   },
   "file_extension": ".py",
   "mimetype": "text/x-python",
   "name": "python",
   "nbconvert_exporter": "python",
   "pygments_lexer": "ipython3",
   "version": "3.8.3"
  }
 },
 "nbformat": 4,
 "nbformat_minor": 4
}
